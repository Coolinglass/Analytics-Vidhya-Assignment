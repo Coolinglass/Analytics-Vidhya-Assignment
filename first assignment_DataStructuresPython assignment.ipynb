{
 "cells": [
  {
   "cell_type": "code",
   "execution_count": 2,
   "id": "eecfdf96",
   "metadata": {},
   "outputs": [
    {
     "data": {
      "text/plain": [
       "[['Name', ['A', 'B', 'C', 'D', 'E']],\n",
       " ['Ankit', [41, 34, 45, 55, 63]],\n",
       " ['Aravind', [42, 23, 34, 44, 53]],\n",
       " ['Lakshay', [32, 23, 13, 54, 67]],\n",
       " ['Gyan', [23, 82, 23, 63, 34]],\n",
       " ['Pranav', [21, 23, 25, 56, 56]]]"
      ]
     },
     "execution_count": 2,
     "metadata": {},
     "output_type": "execute_result"
    }
   ],
   "source": [
    "import numpy as np\n",
    "# student marks\n",
    "student_marks = [['Name', ['A','B','C','D','E']],\n",
    "                ['Ankit',[41,34,45,55,63]],\n",
    "                 ['Aravind',[42,23,34,44,53]],\n",
    "                 ['Lakshay',[32,23,13,54,67]],\n",
    "                 ['Gyan',[23,82,23,63,34]],\n",
    "                 ['Pranav', [21,23,25,56,56]]\n",
    "            \n",
    "                 ]\n",
    "\n",
    "student_marks"
   ]
  },
  {
   "cell_type": "code",
   "execution_count": 4,
   "id": "fc660ea1",
   "metadata": {},
   "outputs": [
    {
     "data": {
      "text/plain": [
       "'Aravind'"
      ]
     },
     "execution_count": 4,
     "metadata": {},
     "output_type": "execute_result"
    }
   ],
   "source": [
    "student_marks[2][0]"
   ]
  },
  {
   "cell_type": "code",
   "execution_count": 144,
   "id": "4e0a0153",
   "metadata": {},
   "outputs": [
    {
     "name": "stdout",
     "output_type": "stream",
     "text": [
      "Ankit 34\n",
      "Aravind 23\n",
      "Lakshay 23\n",
      "Gyan 82\n",
      "Pranav 23\n"
     ]
    }
   ],
   "source": [
    "#Trying to seperate Students and Marks in B\n",
    "students_with_marks_in_B = []\n",
    "\n",
    "for student in student_marks[1:]:\n",
    "    name=student[0]\n",
    "    marks_in_B=student[1][1]\n",
    "    \n",
    "    students_with_marks_in_B.append([marks_in_B,name])\n",
    "    print(name, marks_in_B)"
   ]
  },
  {
   "cell_type": "code",
   "execution_count": 7,
   "id": "fc6c80d2",
   "metadata": {},
   "outputs": [
    {
     "data": {
      "text/plain": [
       "[[34, 'Ankit'], [23, 'Aravind'], [23, 'Lakshay'], [82, 'Gyan'], [23, 'Pranav']]"
      ]
     },
     "execution_count": 7,
     "metadata": {},
     "output_type": "execute_result"
    }
   ],
   "source": [
    "students_with_marks_in_B"
   ]
  },
  {
   "cell_type": "code",
   "execution_count": 230,
   "id": "00215175",
   "metadata": {},
   "outputs": [
    {
     "data": {
      "text/plain": [
       "'Gyan'"
      ]
     },
     "execution_count": 230,
     "metadata": {},
     "output_type": "execute_result"
    }
   ],
   "source": [
    "#answer for Q1: Who scored the highest mark in subject B\n",
    "sorted(students_with_marks_in_B, reverse=True)[0][1]"
   ]
  },
  {
   "cell_type": "code",
   "execution_count": null,
   "id": "b25ba4ac",
   "metadata": {},
   "outputs": [],
   "source": []
  },
  {
   "cell_type": "code",
   "execution_count": 9,
   "id": "8ac168d4",
   "metadata": {},
   "outputs": [
    {
     "name": "stdout",
     "output_type": "stream",
     "text": [
      "Ankit 45\n",
      "Aravind 34\n",
      "Lakshay 13\n",
      "Gyan 23\n",
      "Pranav 25\n"
     ]
    }
   ],
   "source": [
    "# Seperating students marks in C\n",
    "\n",
    "students_with_marks_in_C = []\n",
    "\n",
    "for student in student_marks[1:]:\n",
    "    name=student[0]\n",
    "    marks_in_C=student[1][2]\n",
    "    \n",
    "    students_with_marks_in_C.append([marks_in_C])\n",
    "    print(name, marks_in_C)"
   ]
  },
  {
   "cell_type": "code",
   "execution_count": 220,
   "id": "1531a5b2",
   "metadata": {},
   "outputs": [
    {
     "data": {
      "text/plain": [
       "[[45], [34], [13], [23], [25]]"
      ]
     },
     "execution_count": 220,
     "metadata": {},
     "output_type": "execute_result"
    }
   ],
   "source": [
    "#extracting students with marks in C\n",
    "students_with_marks_in_C\n"
   ]
  },
  {
   "cell_type": "code",
   "execution_count": 286,
   "id": "26688b51",
   "metadata": {},
   "outputs": [
    {
     "name": "stdout",
     "output_type": "stream",
     "text": [
      "45\n",
      "34\n",
      "13\n",
      "23\n",
      "25\n"
     ]
    }
   ],
   "source": [
    "#extracting students with marks in C into a seperate list\n",
    "\n",
    "list_of_c = []\n",
    "\n",
    "for total_of_c in students_with_marks_in_C:\n",
    "    figure =total_of_c[0]\n",
    "    \n",
    "    list_of_c.append(figure)\n",
    "    print(figure)"
   ]
  },
  {
   "cell_type": "code",
   "execution_count": 288,
   "id": "b5db4241",
   "metadata": {},
   "outputs": [
    {
     "data": {
      "text/plain": [
       "[45, 34, 13, 23, 25]"
      ]
     },
     "execution_count": 288,
     "metadata": {},
     "output_type": "execute_result"
    }
   ],
   "source": [
    "list_of_c"
   ]
  },
  {
   "cell_type": "code",
   "execution_count": 289,
   "id": "f0c5f88a",
   "metadata": {},
   "outputs": [
    {
     "name": "stdout",
     "output_type": "stream",
     "text": [
      "28.0\n"
     ]
    }
   ],
   "source": [
    "#answer for Q2: What is the average marks scored in the subject C\n",
    "print(np.mean(list_of_c))"
   ]
  },
  {
   "cell_type": "code",
   "execution_count": null,
   "id": "7c2a3af1",
   "metadata": {},
   "outputs": [],
   "source": []
  },
  {
   "cell_type": "markdown",
   "id": "bf63129a",
   "metadata": {},
   "source": [
    "\n"
   ]
  },
  {
   "cell_type": "code",
   "execution_count": 207,
   "id": "23345680",
   "metadata": {
    "scrolled": true
   },
   "outputs": [
    {
     "name": "stdout",
     "output_type": "stream",
     "text": [
      "Ankit 47.599999999999994\n",
      "Aravind 39.2\n",
      "Lakshay 37.8\n",
      "Gyan 45.0\n",
      "Pranav 36.199999999999996\n"
     ]
    }
   ],
   "source": [
    "# Adding all the marks for each individual students\n",
    "highestpercentage_byname = []\n",
    "for student in student_marks [1:]:\n",
    "    name= student[0]\n",
    "    Highestpercentage=sum(student[1])/500*100\n",
    "    \n",
    "    highestpercentage_byname.append([Highestpercentage,name])\n",
    "    print(name,Highestpercentage)"
   ]
  },
  {
   "cell_type": "code",
   "execution_count": 280,
   "id": "c08de53b",
   "metadata": {},
   "outputs": [
    {
     "data": {
      "text/plain": [
       "'Ankit'"
      ]
     },
     "execution_count": 280,
     "metadata": {},
     "output_type": "execute_result"
    }
   ],
   "source": [
    "#answer for Q3: Who scored the highest percentage of marks\n",
    "sorted(highestpercentage_byname, reverse= True)[0][1]"
   ]
  },
  {
   "cell_type": "code",
   "execution_count": 282,
   "id": "938cb5c4",
   "metadata": {},
   "outputs": [
    {
     "name": "stdout",
     "output_type": "stream",
     "text": [
      "Ankit 51.0\n",
      "Aravind 43.25\n",
      "Lakshay 44.0\n",
      "Gyan 50.5\n",
      "Pranav 40.0\n"
     ]
    }
   ],
   "source": [
    "# Deleting the lowest mark for each candidate and assinging seperate variables\n",
    "first_4_marks_of_student = []\n",
    "highestpercentage_top4=[]\n",
    "for student in student_marks [1:]:\n",
    "    name = student[0]\n",
    "    first_4_marks = sorted(student[1], reverse=True)\n",
    "    del(first_4_marks[-1])\n",
    "    first4=sum(first_4_marks)\n",
    "    first4avg = first4 / 400*100\n",
    "    \n",
    "    highestpercentage_top4.append([first4avg,name])\n",
    "    \n",
    "    \n",
    "    print(name,first4avg)\n"
   ]
  },
  {
   "cell_type": "code",
   "execution_count": 283,
   "id": "decd2e46",
   "metadata": {},
   "outputs": [
    {
     "data": {
      "text/plain": [
       "'Ankit'"
      ]
     },
     "execution_count": 283,
     "metadata": {},
     "output_type": "execute_result"
    }
   ],
   "source": [
    "# answer for Q4: if considered only top-4 subjects of a candidate, then who scored the highest percentage of marks\n",
    "\n",
    "highestpercentage_top4\n",
    "sorted(highestpercentage_top4,reverse=True)[0][1]"
   ]
  },
  {
   "cell_type": "code",
   "execution_count": null,
   "id": "33ba6b3a",
   "metadata": {},
   "outputs": [],
   "source": []
  }
 ],
 "metadata": {
  "kernelspec": {
   "display_name": "Python 3",
   "language": "python",
   "name": "python3"
  },
  "language_info": {
   "codemirror_mode": {
    "name": "ipython",
    "version": 3
   },
   "file_extension": ".py",
   "mimetype": "text/x-python",
   "name": "python",
   "nbconvert_exporter": "python",
   "pygments_lexer": "ipython3",
   "version": "3.8.8"
  }
 },
 "nbformat": 4,
 "nbformat_minor": 5
}
